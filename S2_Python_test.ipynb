{
 "cells": [
  {
   "cell_type": "markdown",
   "metadata": {},
   "source": [
    "## Basic Python test"
   ]
  },
  {
   "cell_type": "code",
   "execution_count": 1,
   "metadata": {},
   "outputs": [
    {
     "name": "stdout",
     "output_type": "stream",
     "text": [
      "\n",
      "Python Version sys.version_info(major=3, minor=8, micro=3, releaselevel='final', serial=0)\n"
     ]
    }
   ],
   "source": [
    "import  sys\n",
    "print(\"\\nPython Version {}\".format(sys.version_info))"
   ]
  },
  {
   "cell_type": "markdown",
   "metadata": {},
   "source": [
    "### Q(1)  Create an iterator of tuples using a less common function. For example, we need a list \n",
    "[(z, 0), (y,1) .. ]"
   ]
  },
  {
   "cell_type": "code",
   "execution_count": 2,
   "metadata": {},
   "outputs": [],
   "source": [
    "str_list =  ['z', 'y', 'x', 'w', 'v']\n",
    "int_list =  range(6)"
   ]
  },
  {
   "cell_type": "code",
   "execution_count": null,
   "metadata": {},
   "outputs": [],
   "source": []
  },
  {
   "cell_type": "markdown",
   "metadata": {},
   "source": [
    "### Q(2)  What is the output from the following code?"
   ]
  },
  {
   "cell_type": "code",
   "execution_count": null,
   "metadata": {},
   "outputs": [],
   "source": [
    "import  numpy  as np\n",
    "list(map(lambda x: np.sqrt(x), [4, 9, 16, 25, 36, 49]))"
   ]
  },
  {
   "cell_type": "code",
   "execution_count": null,
   "metadata": {},
   "outputs": [],
   "source": []
  },
  {
   "cell_type": "markdown",
   "metadata": {},
   "source": [
    "### Q(3) Pandas describe() funtion is used to view some basic statistical details like percentile, mean, std etc. of a data frame or a series of numeric values. How do you make it to include categorical variables also?"
   ]
  },
  {
   "cell_type": "code",
   "execution_count": 3,
   "metadata": {},
   "outputs": [],
   "source": [
    "import      random, string\n",
    "\n",
    "import      pandas    as    pd\n",
    "\n",
    "First_name  =  ['Arya','Isha','Praveen','Gina','Dhanis','Deepti','Durvik','Aslesha',\\\n",
    "                'Durvik','Saranya']\n",
    "Last_name   =  []\n",
    "Age         =  []\n",
    "Gender      =  []\n",
    "Income      =  []\n",
    "\n",
    "for i in range (10):\n",
    "    Last_name.append(random.choice(random.choice(string.ascii_uppercase)))\n",
    "    Age.append(str(random.choice(list(range(21, 66)))))\n",
    "    Gender.append(random.choice(['M', 'F']))\n",
    "    Income.append(str(round(float(random.random()) * 100000,0)))"
   ]
  },
  {
   "cell_type": "code",
   "execution_count": 4,
   "metadata": {},
   "outputs": [],
   "source": [
    "my_dict       =   {'First Name' : First_name, 'Last_name' : Last_name, 'Age' : Age, 'Gender' : Gender, 'Income' : Income}\n",
    "my_df         =   pd.DataFrame(my_dict)\n",
    "my_df.Age     =   my_df.Age.astype('int64') \n",
    "my_df.Income  =   my_df.Income.astype('float')\n",
    "my_df.Gender  =   my_df.Gender.astype('category')"
   ]
  },
  {
   "cell_type": "code",
   "execution_count": 5,
   "metadata": {},
   "outputs": [
    {
     "data": {
      "text/html": [
       "<div>\n",
       "<style scoped>\n",
       "    .dataframe tbody tr th:only-of-type {\n",
       "        vertical-align: middle;\n",
       "    }\n",
       "\n",
       "    .dataframe tbody tr th {\n",
       "        vertical-align: top;\n",
       "    }\n",
       "\n",
       "    .dataframe thead th {\n",
       "        text-align: right;\n",
       "    }\n",
       "</style>\n",
       "<table border=\"1\" class=\"dataframe\">\n",
       "  <thead>\n",
       "    <tr style=\"text-align: right;\">\n",
       "      <th></th>\n",
       "      <th>Age</th>\n",
       "      <th>Income</th>\n",
       "    </tr>\n",
       "  </thead>\n",
       "  <tbody>\n",
       "    <tr>\n",
       "      <th>count</th>\n",
       "      <td>10.000000</td>\n",
       "      <td>10.000000</td>\n",
       "    </tr>\n",
       "    <tr>\n",
       "      <th>mean</th>\n",
       "      <td>51.100000</td>\n",
       "      <td>36097.900000</td>\n",
       "    </tr>\n",
       "    <tr>\n",
       "      <th>std</th>\n",
       "      <td>9.746224</td>\n",
       "      <td>22976.433267</td>\n",
       "    </tr>\n",
       "    <tr>\n",
       "      <th>min</th>\n",
       "      <td>33.000000</td>\n",
       "      <td>3513.000000</td>\n",
       "    </tr>\n",
       "    <tr>\n",
       "      <th>25%</th>\n",
       "      <td>50.000000</td>\n",
       "      <td>16811.000000</td>\n",
       "    </tr>\n",
       "    <tr>\n",
       "      <th>50%</th>\n",
       "      <td>52.000000</td>\n",
       "      <td>36817.500000</td>\n",
       "    </tr>\n",
       "    <tr>\n",
       "      <th>75%</th>\n",
       "      <td>58.750000</td>\n",
       "      <td>51740.000000</td>\n",
       "    </tr>\n",
       "    <tr>\n",
       "      <th>max</th>\n",
       "      <td>61.000000</td>\n",
       "      <td>74712.000000</td>\n",
       "    </tr>\n",
       "  </tbody>\n",
       "</table>\n",
       "</div>"
      ],
      "text/plain": [
       "             Age        Income\n",
       "count  10.000000     10.000000\n",
       "mean   51.100000  36097.900000\n",
       "std     9.746224  22976.433267\n",
       "min    33.000000   3513.000000\n",
       "25%    50.000000  16811.000000\n",
       "50%    52.000000  36817.500000\n",
       "75%    58.750000  51740.000000\n",
       "max    61.000000  74712.000000"
      ]
     },
     "execution_count": 5,
     "metadata": {},
     "output_type": "execute_result"
    }
   ],
   "source": [
    "my_df.describe()"
   ]
  },
  {
   "cell_type": "code",
   "execution_count": null,
   "metadata": {},
   "outputs": [],
   "source": []
  },
  {
   "cell_type": "markdown",
   "metadata": {},
   "source": [
    "### Q(4) How do you get the frequency count of the variable, Gender?"
   ]
  },
  {
   "cell_type": "code",
   "execution_count": null,
   "metadata": {},
   "outputs": [],
   "source": []
  },
  {
   "cell_type": "markdown",
   "metadata": {},
   "source": [
    "### Q(5) Draw boxplot for Age grouped by Gender, a categorical variable using seaborn."
   ]
  },
  {
   "cell_type": "code",
   "execution_count": null,
   "metadata": {},
   "outputs": [],
   "source": []
  },
  {
   "cell_type": "markdown",
   "metadata": {},
   "source": [
    "### Q(6) Validate an email addresses in df['Email'] in the following Python code using regular expression."
   ]
  },
  {
   "cell_type": "code",
   "execution_count": 6,
   "metadata": {},
   "outputs": [],
   "source": [
    "import  re\n",
    "import  pandas  as  pd\n",
    "\n",
    "df      =   pd.DataFrame({'Email' : ['axx@abc.in', 'sbc@gmail.com', 'abcd']})"
   ]
  },
  {
   "cell_type": "code",
   "execution_count": null,
   "metadata": {},
   "outputs": [],
   "source": []
  },
  {
   "cell_type": "markdown",
   "metadata": {},
   "source": [
    "### Q(7)  What is the output from the following python code?"
   ]
  },
  {
   "cell_type": "code",
   "execution_count": null,
   "metadata": {},
   "outputs": [],
   "source": [
    "def fun(a = 5, b = 2, c):\n",
    "        res = a * (b * c)\n",
    "        return res\n",
    "ans = fun(1, 4, 5)\n",
    "print(\"\\nAnswer = {}\".format(ans))"
   ]
  },
  {
   "cell_type": "code",
   "execution_count": null,
   "metadata": {},
   "outputs": [],
   "source": []
  },
  {
   "cell_type": "markdown",
   "metadata": {},
   "source": [
    "### Q(8)  How do you replace the missing values with 999 in the following pandas dataframe, df_NA?"
   ]
  },
  {
   "cell_type": "code",
   "execution_count": 7,
   "metadata": {},
   "outputs": [
    {
     "name": "stdout",
     "output_type": "stream",
     "text": [
      "<class 'pandas.core.frame.DataFrame'>\n",
      "RangeIndex: 4 entries, 0 to 3\n",
      "Data columns (total 2 columns):\n",
      " #   Column      Non-Null Count  Dtype \n",
      "---  ------      --------------  ----- \n",
      " 0   Patient ID  3 non-null      object\n",
      " 1   Name        4 non-null      object\n",
      "dtypes: object(2)\n",
      "memory usage: 192.0+ bytes\n",
      "None\n",
      "  Patient ID       Name\n",
      "0        102   Akhila S\n",
      "1        110  Bhaskar E\n",
      "2        130  Chandar S\n",
      "3        NaN    David L\n"
     ]
    }
   ],
   "source": [
    "import  pandas  as  pd\n",
    "import  numpy   as  np\n",
    "\n",
    "df_NA   =  pd.DataFrame({'Patient ID' : ['102', '110', '130', np.nan ],\\\n",
    "                         'Name' : ['Akhila S', 'Bhaskar E', 'Chandar S', 'David L']})\n",
    "print(df_NA.info())\n",
    "print(df_NA)\n"
   ]
  },
  {
   "cell_type": "code",
   "execution_count": null,
   "metadata": {},
   "outputs": [],
   "source": []
  },
  {
   "cell_type": "markdown",
   "metadata": {},
   "source": [
    "### END"
   ]
  }
 ],
 "metadata": {
  "kernelspec": {
   "display_name": "Python 3",
   "language": "python",
   "name": "python3"
  },
  "language_info": {
   "codemirror_mode": {
    "name": "ipython",
    "version": 3
   },
   "file_extension": ".py",
   "mimetype": "text/x-python",
   "name": "python",
   "nbconvert_exporter": "python",
   "pygments_lexer": "ipython3",
   "version": "3.8.3"
  }
 },
 "nbformat": 4,
 "nbformat_minor": 4
}
