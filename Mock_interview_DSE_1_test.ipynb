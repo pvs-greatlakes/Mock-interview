{
 "cells": [
  {
   "cell_type": "code",
   "execution_count": 1,
   "metadata": {},
   "outputs": [
    {
     "name": "stdout",
     "output_type": "stream",
     "text": [
      "\n",
      "Python Version sys.version_info(major=3, minor=8, micro=3, releaselevel='final', serial=0)\n"
     ]
    }
   ],
   "source": [
    "import  sys\n",
    "print(\"\\nPython Version {}\".format(sys.version_info))"
   ]
  },
  {
   "cell_type": "markdown",
   "metadata": {},
   "source": [
    "### Q (1) Python Basics"
   ]
  },
  {
   "cell_type": "markdown",
   "metadata": {},
   "source": [
    "### 1)\tWhat is a lambda function in Python? Give an example"
   ]
  },
  {
   "cell_type": "markdown",
   "metadata": {},
   "source": [
    "### 2)\tHow do you remove both trailing and leading white spaces from the following strings in Python?"
   ]
  },
  {
   "cell_type": "code",
   "execution_count": 3,
   "metadata": {},
   "outputs": [],
   "source": [
    "Str1 = '  Great Learning – Data Science Engineering course   '"
   ]
  },
  {
   "cell_type": "code",
   "execution_count": 4,
   "metadata": {},
   "outputs": [
    {
     "data": {
      "text/plain": [
       "'Great Learning – Data Science Engineering course'"
      ]
     },
     "execution_count": 4,
     "metadata": {},
     "output_type": "execute_result"
    }
   ],
   "source": [
    "Str1.strip()"
   ]
  },
  {
   "cell_type": "markdown",
   "metadata": {},
   "source": [
    "### 3) Are the output from both the functions, multi1 and multi2 are same?"
   ]
  },
  {
   "cell_type": "code",
   "execution_count": 5,
   "metadata": {},
   "outputs": [
    {
     "name": "stdout",
     "output_type": "stream",
     "text": [
      "\n",
      "multi1 function output is 16\n",
      "\n",
      "multi2 function output is 216\n"
     ]
    }
   ],
   "source": [
    "def multi1(val1 = 1, val2 = 2, val3 = 3, val4 = 4):\n",
    "          return val1*val2**val3\n",
    "\n",
    "def multi2(val1 = 1, val2 = 3, val3 = 2, val4 = 1):\n",
    "          return (val1*val2)**val3\n",
    "    \n",
    "print(\"\\nmulti1 function output is {}\".format(multi1(val1 = 2, val3 = 3)))\n",
    "print(\"\\nmulti2 function output is {}\".format(multi2(val1 = 2, val3 = 3)))"
   ]
  },
  {
   "cell_type": "markdown",
   "metadata": {},
   "source": [
    "### 4) Do you think list1 and list1_copy are equal?"
   ]
  },
  {
   "cell_type": "code",
   "execution_count": null,
   "metadata": {},
   "outputs": [],
   "source": [
    "list1             =  ['a', [1, 2, 3, 4, 5], 'z', 0]\n",
    "list1_copy        =  list1.copy()\n",
    "list1_copy[1][1]  =  9\n",
    "\n",
    "if  list1         == list1_copy:\n",
    "    print(\"\\nTwo lists are identical\")\n",
    "else:\n",
    "    print(\"\\nTwo lists are not identical\")    \n",
    "\n",
    "print(list1, list1_copy)"
   ]
  },
  {
   "cell_type": "markdown",
   "metadata": {},
   "source": [
    "### 5) Do you think list1 and list1_copy are equal?"
   ]
  },
  {
   "cell_type": "code",
   "execution_count": null,
   "metadata": {},
   "outputs": [],
   "source": [
    "import copy\n",
    "\n",
    "list1             =  ['a', [1, 2, 3, 4, 5], 'z', 0]\n",
    "list1_copy        =  copy.deepcopy(list1)\n",
    "list1_copy[1][1]  =  9\n",
    "\n",
    "if  list1         == list1_copy:\n",
    "    print(\"\\nTwo lists are identical\")\n",
    "else:\n",
    "    print(\"\\nTwo lists are not identical.\")    \n",
    "\n",
    "print(list1, list1_copy)"
   ]
  },
  {
   "cell_type": "markdown",
   "metadata": {},
   "source": [
    "### 6) Do you think the following is a valid Python statement?"
   ]
  },
  {
   "cell_type": "code",
   "execution_count": null,
   "metadata": {},
   "outputs": [],
   "source": [
    "in = 2"
   ]
  },
  {
   "cell_type": "code",
   "execution_count": null,
   "metadata": {},
   "outputs": [],
   "source": [
    "on, __init__ = 3, 0 "
   ]
  },
  {
   "cell_type": "markdown",
   "metadata": {},
   "source": [
    "### 7) Using a less common function, create an iterator of tuples \n",
    "res = [('z', 0),('y',1),('x',2),('w',3),('v',4)]"
   ]
  },
  {
   "cell_type": "code",
   "execution_count": null,
   "metadata": {},
   "outputs": [],
   "source": [
    "str_list =  ['z', 'y', 'x', 'w', 'v']\n",
    "int_list =  range(6)\n",
    "\n",
    "## Using a single function, create a list as follows\n",
    "##res = [('z', 0),('y',1),('x',2),('w',3),('v',4)]"
   ]
  },
  {
   "cell_type": "code",
   "execution_count": null,
   "metadata": {},
   "outputs": [],
   "source": []
  },
  {
   "cell_type": "markdown",
   "metadata": {},
   "source": [
    "### 8) Get the numeric portion of the following string using Python"
   ]
  },
  {
   "cell_type": "code",
   "execution_count": null,
   "metadata": {},
   "outputs": [],
   "source": [
    "amt_des = 'My earnings per month is Rs.250000'"
   ]
  },
  {
   "cell_type": "code",
   "execution_count": null,
   "metadata": {},
   "outputs": [],
   "source": []
  },
  {
   "cell_type": "markdown",
   "metadata": {},
   "source": [
    "### 9)  What is the output of the following codes?"
   ]
  },
  {
   "cell_type": "code",
   "execution_count": 6,
   "metadata": {},
   "outputs": [
    {
     "data": {
      "text/plain": [
       "[2.0, 3.0, 4.0, 5.0, 6.0, 7.0]"
      ]
     },
     "execution_count": 6,
     "metadata": {},
     "output_type": "execute_result"
    }
   ],
   "source": [
    "import  numpy  as np\n",
    "list(map(lambda x: np.sqrt(x), [4, 9, 16, 25, 36, 49]))"
   ]
  },
  {
   "cell_type": "code",
   "execution_count": null,
   "metadata": {},
   "outputs": [],
   "source": [
    "val = 20\n",
    "print(\"\\nUsage of continue\")\n",
    "while val > 0:\n",
    "           val  -= 1\n",
    "           if val == 15:\n",
    "               continue\n",
    "           print(\"Value is \" ,end = \"\\t\") \n",
    "           print(val)\n",
    "print(\"End of Run\")"
   ]
  },
  {
   "cell_type": "code",
   "execution_count": null,
   "metadata": {},
   "outputs": [],
   "source": [
    "val = 20\n",
    "print(\"\\nUsage of pass\")\n",
    "while val > 0:\n",
    "           val  -= 1\n",
    "           if val == 15:\n",
    "              pass\n",
    "           print(\"Value is\" ,end = \"\\t\") \n",
    "           print(val)\n",
    "print(\"End of Run\")"
   ]
  },
  {
   "cell_type": "code",
   "execution_count": null,
   "metadata": {},
   "outputs": [],
   "source": [
    "i = 10\n",
    "while i  > 0:\n",
    "          i -= 3\n",
    "          print('*', end = '')\n",
    "          if i <= 2:\n",
    "              break\n",
    "else:\n",
    "         print('*')"
   ]
  },
  {
   "cell_type": "code",
   "execution_count": 7,
   "metadata": {},
   "outputs": [],
   "source": [
    "def esc(code):\n",
    "    '''\n",
    "    f-strings are string literals that have an f at the beginning and curly braces containing expressions\n",
    "    that will be replaced with their values.\n",
    "    \n",
    "    Most common ANSI escape sequences take the following form:\n",
    "    \\033[{}m or 0\n",
    "\n",
    "    We use the Code for non-printable escape character is \\033\n",
    "    m is the character code in either upper case or lower case character\n",
    "    0 is one or more numbers separated with ;\n",
    "    Explanation for the expression that will be replaced by their values\n",
    "    \n",
    "    Select Graphic Rendition (SGR) parameters sets display attributes arranged in the same sequence separated by semicolons\n",
    "    to establish GRAPHIC RENDITION COMBINATION MODE (GRCM) .\n",
    "    \n",
    "     Code  Meaning\n",
    "     ----  --------\n",
    "     30    Black color\n",
    "     31    Red color\n",
    "     32    Green color\n",
    "\n",
    "      1    Bold or increased intensity\n",
    "      2    Decreased intensity\n",
    "      4    Underline\n",
    "      \n",
    "    https://en.wikipedia.org/wiki/ANSI_escape_code  \n",
    "    http://www.ecma-international.org/publications/files/ECMA-ST/Ecma-048.pdf\n",
    "\n",
    "    '''\n",
    "    return f'\\033[{code}m'\n",
    "    \n",
    "def  bold_text(text, color = 'R'):\n",
    "      '''\n",
    "      This function converts the given text into bold and underlined text in the given color\n",
    "      '''\n",
    "      if color == 'B':\n",
    "         cd = '30;1;4'\n",
    "      elif color == 'R':\n",
    "         cd = '31;1;4'\n",
    "      elif  color == 'G':\n",
    "         cd =  '32;1;4'\n",
    "         \n",
    "      return esc(cd)+ text + esc(0)"
   ]
  },
  {
   "cell_type": "code",
   "execution_count": 8,
   "metadata": {},
   "outputs": [
    {
     "name": "stdout",
     "output_type": "stream",
     "text": [
      "\u001b[31;1;4mHi Monish\u001b[0m\n",
      "Hi Monish\n"
     ]
    }
   ],
   "source": [
    "print(bold_text('Hi Monish', 'R'))\n",
    "print('Hi Monish')"
   ]
  },
  {
   "cell_type": "code",
   "execution_count": 9,
   "metadata": {},
   "outputs": [],
   "source": [
    "First_name  =  ['Arya','Isha','Praveen','Gina','Dhanis','Deepti','Durvik','Aslesha','Durvik','Saranya']\n",
    "Last_name   =  ['F','E','K','T','M','J','X','T','R','O']"
   ]
  },
  {
   "cell_type": "code",
   "execution_count": 10,
   "metadata": {},
   "outputs": [],
   "source": [
    "import      random, string\n",
    "\n",
    "Last_name   =  []\n",
    "Age         =  []\n",
    "Gender      =  []\n",
    "Income      =  []\n",
    "\n",
    "for i in range (10):\n",
    "    Last_name.append(random.choice(random.choice(string.ascii_uppercase)))\n",
    "    Age.append(str(random.choice(list(range(21, 66)))))\n",
    "    Gender.append(random.choice(['M', 'F']))\n",
    "    Income.append(str(round(float(random.random()) * 100000,0)))"
   ]
  },
  {
   "cell_type": "markdown",
   "metadata": {},
   "source": [
    "### 10) Pandas dataframes"
   ]
  },
  {
   "cell_type": "markdown",
   "metadata": {},
   "source": [
    "#### a. Create a dictionary, my_dict in Python using the lists, First_name, Last_name, Age, Gender and Income"
   ]
  },
  {
   "cell_type": "code",
   "execution_count": null,
   "metadata": {},
   "outputs": [],
   "source": [
    "my_dict =  "
   ]
  },
  {
   "cell_type": "code",
   "execution_count": null,
   "metadata": {},
   "outputs": [],
   "source": []
  },
  {
   "cell_type": "code",
   "execution_count": null,
   "metadata": {},
   "outputs": [],
   "source": []
  },
  {
   "cell_type": "code",
   "execution_count": null,
   "metadata": {},
   "outputs": [],
   "source": []
  },
  {
   "cell_type": "code",
   "execution_count": null,
   "metadata": {},
   "outputs": [],
   "source": []
  },
  {
   "cell_type": "code",
   "execution_count": null,
   "metadata": {},
   "outputs": [],
   "source": []
  },
  {
   "cell_type": "code",
   "execution_count": 17,
   "metadata": {},
   "outputs": [],
   "source": [
    "my_dict     =  {'First Name' : First_name, 'Last_name' : Last_name, 'Age' : Age, 'Gender' : Gender, 'Income' : Income}"
   ]
  },
  {
   "cell_type": "code",
   "execution_count": 18,
   "metadata": {},
   "outputs": [],
   "source": [
    "import pandas  as  pd\n",
    "my_df   =  pd.DataFrame(my_dict)"
   ]
  },
  {
   "cell_type": "code",
   "execution_count": 19,
   "metadata": {},
   "outputs": [
    {
     "name": "stdout",
     "output_type": "stream",
     "text": [
      "<class 'pandas.core.frame.DataFrame'>\n",
      "RangeIndex: 10 entries, 0 to 9\n",
      "Data columns (total 5 columns):\n",
      " #   Column      Non-Null Count  Dtype \n",
      "---  ------      --------------  ----- \n",
      " 0   First Name  10 non-null     object\n",
      " 1   Last_name   10 non-null     object\n",
      " 2   Age         10 non-null     object\n",
      " 3   Gender      10 non-null     object\n",
      " 4   Income      10 non-null     object\n",
      "dtypes: object(5)\n",
      "memory usage: 528.0+ bytes\n"
     ]
    }
   ],
   "source": [
    "my_df.info()"
   ]
  },
  {
   "cell_type": "code",
   "execution_count": null,
   "metadata": {},
   "outputs": [],
   "source": [
    "my_df['Age'] = my_df['Age']."
   ]
  },
  {
   "cell_type": "markdown",
   "metadata": {},
   "source": [
    "#### b.\tHow do you get the keys of this dictionary, my_dict?"
   ]
  },
  {
   "cell_type": "code",
   "execution_count": null,
   "metadata": {},
   "outputs": [],
   "source": [
    "my_dict.keys()"
   ]
  },
  {
   "cell_type": "markdown",
   "metadata": {},
   "source": [
    "#### c.\tHow do you get the values of this dictionary, my_dict?"
   ]
  },
  {
   "cell_type": "code",
   "execution_count": null,
   "metadata": {},
   "outputs": [],
   "source": []
  },
  {
   "cell_type": "markdown",
   "metadata": {},
   "source": [
    "### Q(2) - Pandas dataframe"
   ]
  },
  {
   "cell_type": "markdown",
   "metadata": {},
   "source": [
    "### a. Create a data frame, my_df using the dictionary, my_dict"
   ]
  },
  {
   "cell_type": "code",
   "execution_count": 11,
   "metadata": {},
   "outputs": [],
   "source": [
    "import   pandas    as    pd"
   ]
  },
  {
   "cell_type": "code",
   "execution_count": 12,
   "metadata": {},
   "outputs": [
    {
     "name": "stdout",
     "output_type": "stream",
     "text": [
      "\u001b[32;1;4m\n",
      "Pandas version\u001b[0m\n",
      "1.0.5\n"
     ]
    }
   ],
   "source": [
    "print(bold_text(\"\\nPandas version\",\"G\"))\n",
    "print(pd.__version__)"
   ]
  },
  {
   "cell_type": "code",
   "execution_count": null,
   "metadata": {},
   "outputs": [],
   "source": [
    "my_df  =  pd.DataFrame(my_dict)"
   ]
  },
  {
   "cell_type": "markdown",
   "metadata": {},
   "source": [
    "#### b. How do you get the number of rows and columns of this data frame, my_df"
   ]
  },
  {
   "cell_type": "code",
   "execution_count": null,
   "metadata": {},
   "outputs": [],
   "source": [
    "my_df.shape"
   ]
  },
  {
   "cell_type": "code",
   "execution_count": null,
   "metadata": {},
   "outputs": [],
   "source": [
    "my_df.info()"
   ]
  },
  {
   "cell_type": "code",
   "execution_count": null,
   "metadata": {},
   "outputs": [],
   "source": [
    "my_df['Income']  = list(map(float,my_df['Income']))"
   ]
  },
  {
   "cell_type": "code",
   "execution_count": null,
   "metadata": {},
   "outputs": [],
   "source": []
  },
  {
   "cell_type": "markdown",
   "metadata": {},
   "source": [
    "#### c. How do you get the count, top, unique and frequent attributes of the data frame, my_df using describe()?"
   ]
  },
  {
   "cell_type": "code",
   "execution_count": null,
   "metadata": {},
   "outputs": [],
   "source": [
    "\n"
   ]
  },
  {
   "cell_type": "markdown",
   "metadata": {},
   "source": [
    "####  Convert Age and Income to numeric variables"
   ]
  },
  {
   "cell_type": "code",
   "execution_count": null,
   "metadata": {},
   "outputs": [],
   "source": [
    "my_df.info()"
   ]
  },
  {
   "cell_type": "code",
   "execution_count": null,
   "metadata": {},
   "outputs": [],
   "source": [
    "print(\"\\nData types \\n\\n{}\".format(my_df.dtypes))"
   ]
  },
  {
   "cell_type": "code",
   "execution_count": null,
   "metadata": {},
   "outputs": [],
   "source": [
    "my_df['Age'] = my_df[str('Age')]"
   ]
  },
  {
   "cell_type": "code",
   "execution_count": null,
   "metadata": {},
   "outputs": [],
   "source": [
    "print(\"\\nData types \\n\\n{}\".format(my_df.dtypes))"
   ]
  },
  {
   "cell_type": "code",
   "execution_count": null,
   "metadata": {},
   "outputs": [],
   "source": [
    "my_df.Age     =   my_df.Age.astype('int64') "
   ]
  },
  {
   "cell_type": "code",
   "execution_count": null,
   "metadata": {},
   "outputs": [],
   "source": [
    "print(\"\\nData types \\n\\n{}\".format(my_df.dtypes))"
   ]
  },
  {
   "cell_type": "markdown",
   "metadata": {},
   "source": [
    "#### d. How do you get the frequency count of the variable, Gender?"
   ]
  },
  {
   "cell_type": "code",
   "execution_count": null,
   "metadata": {},
   "outputs": [],
   "source": [
    "my_df['Gender'].value_counts()\n"
   ]
  },
  {
   "cell_type": "markdown",
   "metadata": {},
   "source": [
    "### Q(3) - Create a csv file from Pandas dataframe, my_df and omit index values"
   ]
  },
  {
   "cell_type": "code",
   "execution_count": 13,
   "metadata": {},
   "outputs": [
    {
     "name": "stdout",
     "output_type": "stream",
     "text": [
      "\n",
      "Current working directory D:\\GL_DSE_Interview\n"
     ]
    }
   ],
   "source": [
    "import os\n",
    "print(\"\\nCurrent working directory {}\".format(os.getcwd()))"
   ]
  },
  {
   "cell_type": "code",
   "execution_count": null,
   "metadata": {},
   "outputs": [],
   "source": []
  },
  {
   "cell_type": "markdown",
   "metadata": {},
   "source": [
    "#### Q(4) - Visualization using Box plots\n",
    "##### a. Read the csv file created now and store it as my_df1"
   ]
  },
  {
   "cell_type": "code",
   "execution_count": 14,
   "metadata": {},
   "outputs": [],
   "source": [
    "import  pandas  as  pd\n",
    "my_df1  =  pd.read_csv('my_df.csv')"
   ]
  },
  {
   "cell_type": "code",
   "execution_count": 15,
   "metadata": {},
   "outputs": [
    {
     "data": {
      "text/plain": [
       "Index(['First Name', 'Last_name', 'Age', 'Gender', 'Income'], dtype='object')"
      ]
     },
     "execution_count": 15,
     "metadata": {},
     "output_type": "execute_result"
    }
   ],
   "source": [
    "my_df1.columns"
   ]
  },
  {
   "cell_type": "code",
   "execution_count": 16,
   "metadata": {},
   "outputs": [
    {
     "name": "stdout",
     "output_type": "stream",
     "text": [
      "<class 'pandas.core.frame.DataFrame'>\n",
      "RangeIndex: 10 entries, 0 to 9\n",
      "Data columns (total 5 columns):\n",
      " #   Column      Non-Null Count  Dtype  \n",
      "---  ------      --------------  -----  \n",
      " 0   First Name  10 non-null     object \n",
      " 1   Last_name   10 non-null     object \n",
      " 2   Age         10 non-null     int64  \n",
      " 3   Gender      10 non-null     object \n",
      " 4   Income      10 non-null     float64\n",
      "dtypes: float64(1), int64(1), object(3)\n",
      "memory usage: 528.0+ bytes\n"
     ]
    }
   ],
   "source": [
    "my_df1.info()"
   ]
  },
  {
   "cell_type": "markdown",
   "metadata": {},
   "source": [
    "##### b. Draw boxplot for Income grouped by Gender, a categorical variable using seaborn"
   ]
  },
  {
   "cell_type": "code",
   "execution_count": null,
   "metadata": {},
   "outputs": [],
   "source": [
    "import  seaborn           as  sns\n",
    "import  matplotlib.pyplot as  plt\n",
    "\n",
    "plt.show()"
   ]
  },
  {
   "cell_type": "code",
   "execution_count": null,
   "metadata": {},
   "outputs": [],
   "source": [
    "import  seaborn           as  sns\n",
    "import  matplotlib.pyplot as  plt\n"
   ]
  },
  {
   "cell_type": "markdown",
   "metadata": {},
   "source": [
    "#### Q(5) - Visualization -- Draw Histogram along with Kernel Density Estimate (KDE) plots using Seaborn"
   ]
  },
  {
   "cell_type": "code",
   "execution_count": null,
   "metadata": {},
   "outputs": [],
   "source": []
  },
  {
   "cell_type": "code",
   "execution_count": null,
   "metadata": {},
   "outputs": [],
   "source": []
  },
  {
   "cell_type": "code",
   "execution_count": null,
   "metadata": {},
   "outputs": [],
   "source": []
  },
  {
   "cell_type": "markdown",
   "metadata": {},
   "source": [
    "### END"
   ]
  }
 ],
 "metadata": {
  "kernelspec": {
   "display_name": "Python 3",
   "language": "python",
   "name": "python3"
  },
  "language_info": {
   "codemirror_mode": {
    "name": "ipython",
    "version": 3
   },
   "file_extension": ".py",
   "mimetype": "text/x-python",
   "name": "python",
   "nbconvert_exporter": "python",
   "pygments_lexer": "ipython3",
   "version": "3.8.3"
  }
 },
 "nbformat": 4,
 "nbformat_minor": 4
}
