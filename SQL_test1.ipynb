{
 "cells": [
  {
   "cell_type": "code",
   "execution_count": 1,
   "metadata": {},
   "outputs": [],
   "source": [
    "import      random, string"
   ]
  },
  {
   "cell_type": "code",
   "execution_count": 2,
   "metadata": {},
   "outputs": [],
   "source": [
    "First_name  =  ['Arya','Isha','Praveen','Gina','Dhanis','Deepti','Durvik','Aslesha',\\\n",
    "                'Durvik','Saranya']\n",
    "Last_name   =  []\n",
    "Age         =  []\n",
    "Gender      =  []\n",
    "Income      =  []\n",
    "\n",
    "for i in range (10):\n",
    "    Last_name.append(random.choice(random.choice(string.ascii_uppercase)))\n",
    "    Age.append(str(random.choice(list(range(21, 66)))))\n",
    "    Gender.append(random.choice(['M', 'F']))\n",
    "    Income.append(str(round(float(random.random()) * 100000,0)))"
   ]
  },
  {
   "cell_type": "code",
   "execution_count": null,
   "metadata": {},
   "outputs": [],
   "source": [
    "my_dict     =  {'First Name' : First_name, 'Last_name' : Last_name, \\\n",
    "                'Age' : Age, 'Gender' : Gender, 'Income' : Income}"
   ]
  },
  {
   "cell_type": "code",
   "execution_count": null,
   "metadata": {},
   "outputs": [],
   "source": [
    "type(my_dict)"
   ]
  },
  {
   "cell_type": "code",
   "execution_count": null,
   "metadata": {},
   "outputs": [],
   "source": [
    "import copy\n",
    "\n",
    "list1             =  ['a', [1, 2, 3, 4, 5], 'z', 0]\n",
    "list1_copy        =  copy.deepcopy(list1)\n",
    "list1_copy[1][1]  =  9\n",
    "\n",
    "if  list1         == list1_copy:\n",
    "    print(\"\\nTwo lists are identical\")\n",
    "else:\n",
    "    print(\"\\nTwo lists are not identical.\")    \n",
    "\n",
    "print(list1, list1_copy)"
   ]
  }
 ],
 "metadata": {
  "kernelspec": {
   "display_name": "Python 3",
   "language": "python",
   "name": "python3"
  },
  "language_info": {
   "codemirror_mode": {
    "name": "ipython",
    "version": 3
   },
   "file_extension": ".py",
   "mimetype": "text/x-python",
   "name": "python",
   "nbconvert_exporter": "python",
   "pygments_lexer": "ipython3",
   "version": "3.8.3"
  }
 },
 "nbformat": 4,
 "nbformat_minor": 4
}
