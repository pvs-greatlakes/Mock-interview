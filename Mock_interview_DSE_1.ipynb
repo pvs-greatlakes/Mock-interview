{
 "cells": [
  {
   "cell_type": "markdown",
   "metadata": {},
   "source": [
    "### Q (1) Python - dictionary"
   ]
  },
  {
   "cell_type": "code",
   "execution_count": 1,
   "metadata": {},
   "outputs": [
    {
     "name": "stdout",
     "output_type": "stream",
     "text": [
      "\n",
      "Python Version sys.version_info(major=3, minor=8, micro=3, releaselevel='final', serial=0)\n"
     ]
    }
   ],
   "source": [
    "import  sys\n",
    "print(\"\\nPython Version {}\".format(sys.version_info))"
   ]
  },
  {
   "cell_type": "code",
   "execution_count": 2,
   "metadata": {},
   "outputs": [
    {
     "name": "stdout",
     "output_type": "stream",
     "text": [
      "\n",
      "multi1 function output is 16\n",
      "\n",
      "multi2 function output is 216\n"
     ]
    }
   ],
   "source": [
    "def multi1(val1 = 1, val2 = 2, val3 = 3, val4 = 4):\n",
    "          return val1*val2**val3\n",
    "\n",
    "def multi2(val1 = 4, val2 = 3, val3 = 2, val4 = 1):\n",
    "          return (val1*val2)**val3\n",
    "    \n",
    "print(\"\\nmulti1 function output is {}\".format(multi1(val1 = 2, val3 = 3)))\n",
    "print(\"\\nmulti2 function output is {}\".format(multi2(val1 = 2, val3 = 3)))"
   ]
  },
  {
   "cell_type": "code",
   "execution_count": 3,
   "metadata": {},
   "outputs": [
    {
     "name": "stdout",
     "output_type": "stream",
     "text": [
      "\n",
      "Two lists are identical\n",
      "['a', [1, 9, 3, 4, 5], 'z', 0] ['a', [1, 9, 3, 4, 5], 'z', 0]\n"
     ]
    }
   ],
   "source": [
    "list1             =  ['a', [1, 2, 3, 4, 5], 'z', 0]\n",
    "list1_copy        =  list1.copy()\n",
    "list1_copy[1][1]  =  9\n",
    "\n",
    "if  list1         == list1_copy:\n",
    "    print(\"\\nTwo lists are identical\")\n",
    "else:\n",
    "    print(\"\\nTwo lists are not identical\")    \n",
    "\n",
    "print(list1, list1_copy)"
   ]
  },
  {
   "cell_type": "code",
   "execution_count": 4,
   "metadata": {},
   "outputs": [
    {
     "name": "stdout",
     "output_type": "stream",
     "text": [
      "\n",
      "Two lists are not identical.\n",
      "['a', [1, 2, 3, 4, 5], 'z', 0] ['a', [1, 9, 3, 4, 5], 'z', 0]\n"
     ]
    }
   ],
   "source": [
    "import copy\n",
    "\n",
    "list1             =  ['a', [1, 2, 3, 4, 5], 'z', 0]\n",
    "list1_copy        =  copy.deepcopy(list1)\n",
    "list1_copy[1][1]  =  9\n",
    "\n",
    "if  list1         == list1_copy:\n",
    "    print(\"\\nTwo lists are identical\")\n",
    "else:\n",
    "    print(\"\\nTwo lists are not identical.\")    \n",
    "\n",
    "print(list1, list1_copy)"
   ]
  },
  {
   "cell_type": "code",
   "execution_count": 7,
   "metadata": {},
   "outputs": [],
   "source": [
    "in1 = 2"
   ]
  },
  {
   "cell_type": "code",
   "execution_count": 8,
   "metadata": {},
   "outputs": [],
   "source": [
    "on, __init__ = 3, 0 "
   ]
  },
  {
   "cell_type": "markdown",
   "metadata": {},
   "source": [
    "Using a less common function, create an iterator of tuples."
   ]
  },
  {
   "cell_type": "code",
   "execution_count": 9,
   "metadata": {},
   "outputs": [],
   "source": [
    "str_list =  ['z', 'y', 'x', 'w', 'v']\n",
    "int_list =  range(6)\n",
    "\n",
    "## Using a single function, create a list as follows\n",
    "##res = [('z', 0),('y',1),('x',2),('w',3),('v',4)]"
   ]
  },
  {
   "cell_type": "code",
   "execution_count": 10,
   "metadata": {},
   "outputs": [
    {
     "name": "stdout",
     "output_type": "stream",
     "text": [
      "[('z', 0), ('y', 1), ('x', 2), ('w', 3), ('v', 4)]\n",
      "\n",
      "Note. zip() returns an iterator of tuples\n",
      "\n"
     ]
    }
   ],
   "source": [
    "res = list(zip(str_list,int_list))\n",
    "print(res)\n",
    "print(\"\\nNote. zip() returns an iterator of tuples\\n\")"
   ]
  },
  {
   "cell_type": "code",
   "execution_count": 11,
   "metadata": {},
   "outputs": [],
   "source": [
    "amt_des = 'My earnings per month is Rs.250000'"
   ]
  },
  {
   "cell_type": "code",
   "execution_count": 12,
   "metadata": {},
   "outputs": [
    {
     "name": "stdout",
     "output_type": "stream",
     "text": [
      "<class 'str'>\n",
      "\n",
      "Numeric portion of the amt_des is 250000\n"
     ]
    }
   ],
   "source": [
    "amt_num = amt_des.split('.')[1]\n",
    "print(type(amt_num))\n",
    "print(\"\\nNumeric portion of the amt_des is %s\" % amt_num)"
   ]
  },
  {
   "cell_type": "markdown",
   "metadata": {},
   "source": [
    "#### What is the output of the following code?"
   ]
  },
  {
   "cell_type": "code",
   "execution_count": 13,
   "metadata": {},
   "outputs": [
    {
     "data": {
      "text/plain": [
       "[2.0, 3.0, 4.0, 5.0, 6.0, 7.0]"
      ]
     },
     "execution_count": 13,
     "metadata": {},
     "output_type": "execute_result"
    }
   ],
   "source": [
    "import  numpy  as np\n",
    "list(map(lambda x: np.sqrt(x), [4, 9, 16, 25, 36, 49]))"
   ]
  },
  {
   "cell_type": "code",
   "execution_count": 14,
   "metadata": {},
   "outputs": [
    {
     "name": "stdout",
     "output_type": "stream",
     "text": [
      "\n",
      "Usage of continue\n",
      "Value is \t19\n",
      "Value is \t18\n",
      "Value is \t17\n",
      "Value is \t16\n",
      "Value is \t14\n",
      "Value is \t13\n",
      "Value is \t12\n",
      "Value is \t11\n",
      "Value is \t10\n",
      "Value is \t9\n",
      "Value is \t8\n",
      "Value is \t7\n",
      "Value is \t6\n",
      "Value is \t5\n",
      "Value is \t4\n",
      "Value is \t3\n",
      "Value is \t2\n",
      "Value is \t1\n",
      "Value is \t0\n",
      "End of Run\n"
     ]
    }
   ],
   "source": [
    "val = 20\n",
    "print(\"\\nUsage of continue\")\n",
    "while val > 0:\n",
    "           val  -= 1\n",
    "           if val == 15:\n",
    "               continue\n",
    "           print(\"Value is \" ,end = \"\\t\") \n",
    "           print(val)\n",
    "print(\"End of Run\")"
   ]
  },
  {
   "cell_type": "code",
   "execution_count": 15,
   "metadata": {},
   "outputs": [
    {
     "name": "stdout",
     "output_type": "stream",
     "text": [
      "\n",
      "Usage of pass\n",
      "Value is\t19\n",
      "Value is\t18\n",
      "Value is\t17\n",
      "Value is\t16\n",
      "Value is\t15\n",
      "Value is\t14\n",
      "Value is\t13\n",
      "Value is\t12\n",
      "Value is\t11\n",
      "Value is\t10\n",
      "Value is\t9\n",
      "Value is\t8\n",
      "Value is\t7\n",
      "Value is\t6\n",
      "Value is\t5\n",
      "Value is\t4\n",
      "Value is\t3\n",
      "Value is\t2\n",
      "Value is\t1\n",
      "Value is\t0\n",
      "End of Run\n"
     ]
    }
   ],
   "source": [
    "val = 20\n",
    "print(\"\\nUsage of pass\")\n",
    "while val > 0:\n",
    "           val  -= 1\n",
    "           if val == 15:\n",
    "              pass\n",
    "           print(\"Value is\" ,end = \"\\t\") \n",
    "           print(val)\n",
    "print(\"End of Run\")"
   ]
  },
  {
   "cell_type": "code",
   "execution_count": 16,
   "metadata": {},
   "outputs": [
    {
     "name": "stdout",
     "output_type": "stream",
     "text": [
      "***"
     ]
    }
   ],
   "source": [
    "i = 10\n",
    "while i  > 0:\n",
    "          i -= 3\n",
    "          print('*', end = '')\n",
    "          if i <= 2:\n",
    "              break\n",
    "else:\n",
    "         print('*')"
   ]
  },
  {
   "cell_type": "code",
   "execution_count": 17,
   "metadata": {},
   "outputs": [],
   "source": [
    "def esc(code):\n",
    "    '''\n",
    "    f-strings are string literals that have an f at the beginning and curly braces containing expressions\n",
    "    that will be replaced with their values.\n",
    "    \n",
    "    Most common ANSI escape sequences take the following form:\n",
    "    \\033[{}m or 0\n",
    "\n",
    "    We use the Code for non-printable escape character is \\033\n",
    "    m is the character code in either upper case or lower case character\n",
    "    0 is one or more numbers separated with ;\n",
    "    Explanation for the expression that will be replaced by their values\n",
    "    \n",
    "    Select Graphic Rendition (SGR) parameters sets display attributes arranged in the same sequence separated by semicolons\n",
    "    to establish GRAPHIC RENDITION COMBINATION MODE (GRCM) .\n",
    "    \n",
    "     Code  Meaning\n",
    "     ----  --------\n",
    "     30    Black color\n",
    "     31    Red color\n",
    "     32    Green color\n",
    "\n",
    "      1    Bold or increased intensity\n",
    "      2    Decreased intensity\n",
    "      4    Underline\n",
    "      \n",
    "    https://en.wikipedia.org/wiki/ANSI_escape_code  \n",
    "    http://www.ecma-international.org/publications/files/ECMA-ST/Ecma-048.pdf\n",
    "\n",
    "    '''\n",
    "    return f'\\033[{code}m'\n",
    "    \n",
    "def  bold_text(text, color = 'R'):\n",
    "      '''\n",
    "      This function converts the given text into bold and underlined text in the given color\n",
    "      '''\n",
    "      if color == 'B':\n",
    "         cd = '30;1;4'\n",
    "      elif color == 'R':\n",
    "         cd = '31;1;4'\n",
    "      elif  color == 'G':\n",
    "         cd =  '32;1;4'\n",
    "         \n",
    "      return esc(cd)+ text + esc(0)"
   ]
  },
  {
   "cell_type": "code",
   "execution_count": 18,
   "metadata": {},
   "outputs": [],
   "source": [
    "First_name  =  ['Arya','Isha','Praveen','Gina','Dhanis','Deepti','Durvik','Aslesha',\\\n",
    "                'Durvik','Saranya']\n",
    "Last_name   =  ['F','E','K','T','M','J','X','T','R','O']"
   ]
  },
  {
   "cell_type": "code",
   "execution_count": 19,
   "metadata": {},
   "outputs": [],
   "source": [
    "import      random, string\n",
    "\n",
    "Last_name   =  []\n",
    "Age         =  []\n",
    "Gender      =  []\n",
    "Income      =  []\n",
    "\n",
    "for i in range (10):\n",
    "    Last_name.append(random.choice(random.choice(string.ascii_uppercase)))\n",
    "    Age.append(str(random.choice(list(range(21, 66)))))\n",
    "    Gender.append(random.choice(['M', 'F']))\n",
    "    Income.append(str(round(float(random.random()) * 100000,0)))"
   ]
  },
  {
   "cell_type": "markdown",
   "metadata": {},
   "source": [
    "#### a. Create a dictionary, my_dict in Python using the lists, First_name, Last_name, Age, Gender and Income"
   ]
  },
  {
   "cell_type": "code",
   "execution_count": 20,
   "metadata": {},
   "outputs": [],
   "source": [
    "my_dict     =  {'First Name' : First_name, 'Last_name' : Last_name, 'Age' : Age, 'Gender' : Gender, 'Income' : Income}"
   ]
  },
  {
   "cell_type": "markdown",
   "metadata": {},
   "source": [
    "#### b.\tHow do you get the keys of this dictionary, my_dict?"
   ]
  },
  {
   "cell_type": "code",
   "execution_count": 21,
   "metadata": {},
   "outputs": [
    {
     "name": "stdout",
     "output_type": "stream",
     "text": [
      "\n",
      "Dictionary Keys dict_keys(['First Name', 'Last_name', 'Age', 'Gender', 'Income'])\n"
     ]
    }
   ],
   "source": [
    "print(\"\\nDictionary Keys {}\".format(my_dict.keys()))"
   ]
  },
  {
   "cell_type": "markdown",
   "metadata": {},
   "source": [
    "#### c.\tHow do you get the values of this dictionary, my_dict?"
   ]
  },
  {
   "cell_type": "code",
   "execution_count": 22,
   "metadata": {},
   "outputs": [
    {
     "name": "stdout",
     "output_type": "stream",
     "text": [
      "\n",
      "Dictionary values dict_values([['Arya', 'Isha', 'Praveen', 'Gina', 'Dhanis', 'Deepti', 'Durvik', 'Aslesha', 'Durvik', 'Saranya'], ['I', 'O', 'U', 'D', 'I', 'K', 'V', 'B', 'X', 'F'], ['41', '42', '46', '62', '50', '49', '51', '25', '28', '26'], ['M', 'F', 'M', 'F', 'M', 'F', 'F', 'F', 'M', 'M'], ['59554.0', '1679.0', '7208.0', '18837.0', '84961.0', '3377.0', '38552.0', '76213.0', '28310.0', '81841.0']])\n"
     ]
    }
   ],
   "source": [
    "print(\"\\nDictionary values {}\".format(my_dict.values()))"
   ]
  },
  {
   "cell_type": "markdown",
   "metadata": {},
   "source": [
    "### Q(2) - Pandas dataframe"
   ]
  },
  {
   "cell_type": "markdown",
   "metadata": {},
   "source": [
    "### a. Create a data frame, my_df using the dictionary, my_dict"
   ]
  },
  {
   "cell_type": "code",
   "execution_count": 23,
   "metadata": {},
   "outputs": [],
   "source": [
    "import   pandas    as    pd"
   ]
  },
  {
   "cell_type": "code",
   "execution_count": 24,
   "metadata": {},
   "outputs": [
    {
     "name": "stdout",
     "output_type": "stream",
     "text": [
      "\u001b[32;1;4m\n",
      "Pandas version\u001b[0m\n",
      "1.0.5\n"
     ]
    }
   ],
   "source": [
    "print(bold_text(\"\\nPandas version\",\"G\"))\n",
    "print(pd.__version__)"
   ]
  },
  {
   "cell_type": "code",
   "execution_count": 25,
   "metadata": {},
   "outputs": [],
   "source": [
    "my_df  =  pd.DataFrame(my_dict)"
   ]
  },
  {
   "cell_type": "markdown",
   "metadata": {},
   "source": [
    "#### b. How do you get the number of rows and columns of this data frame, my_df"
   ]
  },
  {
   "cell_type": "code",
   "execution_count": 26,
   "metadata": {},
   "outputs": [
    {
     "name": "stdout",
     "output_type": "stream",
     "text": [
      "\n",
      "Dimension of my_df (10, 5)\n"
     ]
    }
   ],
   "source": [
    "print(\"\\nDimension of my_df {}\".format(my_df.shape))"
   ]
  },
  {
   "cell_type": "markdown",
   "metadata": {},
   "source": [
    "#### c. How do you get the count, top, unique and frequent attributes of the data frame, my_df using describe()?"
   ]
  },
  {
   "cell_type": "code",
   "execution_count": 27,
   "metadata": {},
   "outputs": [
    {
     "name": "stdout",
     "output_type": "stream",
     "text": [
      "<class 'pandas.core.frame.DataFrame'>\n",
      "RangeIndex: 10 entries, 0 to 9\n",
      "Data columns (total 5 columns):\n",
      " #   Column      Non-Null Count  Dtype \n",
      "---  ------      --------------  ----- \n",
      " 0   First Name  10 non-null     object\n",
      " 1   Last_name   10 non-null     object\n",
      " 2   Age         10 non-null     object\n",
      " 3   Gender      10 non-null     object\n",
      " 4   Income      10 non-null     object\n",
      "dtypes: object(5)\n",
      "memory usage: 528.0+ bytes\n",
      "\n",
      "Data structure\n"
     ]
    }
   ],
   "source": [
    "print(\"\\nData structure\".format(my_df.info()))"
   ]
  },
  {
   "cell_type": "markdown",
   "metadata": {},
   "source": [
    "####  Convert Age and Income to numeric variables"
   ]
  },
  {
   "cell_type": "code",
   "execution_count": 28,
   "metadata": {},
   "outputs": [],
   "source": [
    "my_df.Age     =   my_df.Age.astype('int64') \n",
    "my_df.Income  =   my_df.Income.astype('float')"
   ]
  },
  {
   "cell_type": "code",
   "execution_count": 29,
   "metadata": {},
   "outputs": [],
   "source": [
    "my_df.Gender   =  my_df.Gender.astype('category')"
   ]
  },
  {
   "cell_type": "code",
   "execution_count": 30,
   "metadata": {},
   "outputs": [
    {
     "name": "stdout",
     "output_type": "stream",
     "text": [
      "\n",
      "Data types \n",
      "\n",
      "First Name      object\n",
      "Last_name       object\n",
      "Age              int64\n",
      "Gender        category\n",
      "Income         float64\n",
      "dtype: object\n"
     ]
    }
   ],
   "source": [
    "print(\"\\nData types \\n\\n{}\".format(my_df.dtypes))"
   ]
  },
  {
   "cell_type": "code",
   "execution_count": 43,
   "metadata": {},
   "outputs": [
    {
     "name": "stdout",
     "output_type": "stream",
     "text": [
      "\u001b[31;1;4m\n",
      "Description summary of non-numeric variable\u001b[0m\n"
     ]
    },
    {
     "data": {
      "text/html": [
       "<div>\n",
       "<style scoped>\n",
       "    .dataframe tbody tr th:only-of-type {\n",
       "        vertical-align: middle;\n",
       "    }\n",
       "\n",
       "    .dataframe tbody tr th {\n",
       "        vertical-align: top;\n",
       "    }\n",
       "\n",
       "    .dataframe thead th {\n",
       "        text-align: right;\n",
       "    }\n",
       "</style>\n",
       "<table border=\"1\" class=\"dataframe\">\n",
       "  <thead>\n",
       "    <tr style=\"text-align: right;\">\n",
       "      <th></th>\n",
       "      <th>First Name</th>\n",
       "      <th>Last_name</th>\n",
       "      <th>Gender</th>\n",
       "    </tr>\n",
       "  </thead>\n",
       "  <tbody>\n",
       "    <tr>\n",
       "      <th>count</th>\n",
       "      <td>10</td>\n",
       "      <td>10</td>\n",
       "      <td>10</td>\n",
       "    </tr>\n",
       "    <tr>\n",
       "      <th>unique</th>\n",
       "      <td>9</td>\n",
       "      <td>9</td>\n",
       "      <td>2</td>\n",
       "    </tr>\n",
       "    <tr>\n",
       "      <th>top</th>\n",
       "      <td>Durvik</td>\n",
       "      <td>I</td>\n",
       "      <td>M</td>\n",
       "    </tr>\n",
       "    <tr>\n",
       "      <th>freq</th>\n",
       "      <td>2</td>\n",
       "      <td>2</td>\n",
       "      <td>5</td>\n",
       "    </tr>\n",
       "  </tbody>\n",
       "</table>\n",
       "</div>"
      ],
      "text/plain": [
       "       First Name Last_name Gender\n",
       "count          10        10     10\n",
       "unique          9         9      2\n",
       "top        Durvik         I      M\n",
       "freq            2         2      5"
      ]
     },
     "execution_count": 43,
     "metadata": {},
     "output_type": "execute_result"
    }
   ],
   "source": [
    "print(bold_text(\"\\nDescription summary of non-numeric variable\"))\n",
    "my_df.describe(include= ['category', 'object'])"
   ]
  },
  {
   "cell_type": "markdown",
   "metadata": {},
   "source": [
    "#### d. How do you get the frequency count of the variable, Gender?"
   ]
  },
  {
   "cell_type": "code",
   "execution_count": 32,
   "metadata": {},
   "outputs": [
    {
     "data": {
      "text/plain": [
       "M    5\n",
       "F    5\n",
       "Name: Gender, dtype: int64"
      ]
     },
     "execution_count": 32,
     "metadata": {},
     "output_type": "execute_result"
    }
   ],
   "source": [
    "my_df.Gender.value_counts()"
   ]
  },
  {
   "cell_type": "markdown",
   "metadata": {},
   "source": [
    "try: \n",
    "     n1_  _n2   =  100  200\n",
    "        \n",
    "except:\n",
    "    print('Error')"
   ]
  },
  {
   "cell_type": "code",
   "execution_count": 35,
   "metadata": {},
   "outputs": [],
   "source": [
    "n1_, _n2   =  100, 200"
   ]
  },
  {
   "cell_type": "code",
   "execution_count": 36,
   "metadata": {},
   "outputs": [],
   "source": [
    "__, _      =   0, 1"
   ]
  },
  {
   "cell_type": "markdown",
   "metadata": {},
   "source": [
    "### Q(3) - Create a csv file from Pandas dataframe, my_df and omit index values"
   ]
  },
  {
   "cell_type": "code",
   "execution_count": 37,
   "metadata": {},
   "outputs": [
    {
     "name": "stdout",
     "output_type": "stream",
     "text": [
      "\n",
      "Current working directory D:\\GL_DSE_Interview\n"
     ]
    }
   ],
   "source": [
    "import os\n",
    "print(\"\\nCurrent working directory {}\".format(os.getcwd()))"
   ]
  },
  {
   "cell_type": "code",
   "execution_count": 38,
   "metadata": {},
   "outputs": [],
   "source": [
    "my_df.to_csv('my_df.csv', index = False)"
   ]
  },
  {
   "cell_type": "markdown",
   "metadata": {},
   "source": [
    "#### Q(4) - Visualization using Box plots\n",
    "##### a. Read the csv file created now and store it as my_df1"
   ]
  },
  {
   "cell_type": "code",
   "execution_count": 39,
   "metadata": {},
   "outputs": [],
   "source": [
    "my_df1  =  pd.read_csv('my_df.csv')"
   ]
  },
  {
   "cell_type": "markdown",
   "metadata": {},
   "source": [
    "##### b. Draw boxplot for Income grouped by Gender, a categorical variable using seaborn"
   ]
  },
  {
   "cell_type": "code",
   "execution_count": 40,
   "metadata": {},
   "outputs": [
    {
     "data": {
      "text/plain": [
       "Text(0.5, 1.0, 'Gender Vs Income \\n')"
      ]
     },
     "execution_count": 40,
     "metadata": {},
     "output_type": "execute_result"
    },
    {
     "data": {
      "image/png": "[encoded data removed]",
      "text/plain": [
       "<Figure size 432x288 with 1 Axes>"
      ]
     },
     "metadata": {
      "needs_background": "light"
     },
     "output_type": "display_data"
    }
   ],
   "source": [
    "import  seaborn           as  sns\n",
    "import  matplotlib.pyplot as  plt\n",
    "\n",
    "sns.boxplot(x = 'Gender', y = 'Income', data = my_df1)\n",
    "plt.title(\"Gender Vs Income \\n\")"
   ]
  },
  {
   "cell_type": "markdown",
   "metadata": {},
   "source": [
    "#### Q(5) - Visualization -- Draw Histogram along with Kernel Density Estimate (KDE) plots using Seaborn"
   ]
  },
  {
   "cell_type": "code",
   "execution_count": 41,
   "metadata": {},
   "outputs": [
    {
     "data": {
      "text/plain": [
       "Text(0.5, 1.0, 'Age histogram and KDE \\n')"
      ]
     },
     "execution_count": 41,
     "metadata": {},
     "output_type": "execute_result"
    },
    {
     "data": {
      "image/png": "[encoded data removed]",
      "text/plain": [
       "<Figure size 432x288 with 1 Axes>"
      ]
     },
     "metadata": {},
     "output_type": "display_data"
    }
   ],
   "source": [
    "sns.set_style('darkgrid')\n",
    "sns.distplot(my_df1.Age, kde = True)\n",
    "plt.grid(True)\n",
    "plt.title(\"Age histogram and KDE \\n\")"
   ]
  },
  {
   "cell_type": "code",
   "execution_count": 42,
   "metadata": {},
   "outputs": [
    {
     "data": {
      "text/plain": [
       "Text(0.5, 1.0, 'Income histogram and KDE \\n')"
      ]
     },
     "execution_count": 42,
     "metadata": {},
     "output_type": "execute_result"
    },
    {
     "data": {
      "image/png": "[encoded data removed]",
      "text/plain": [
       "<Figure size 432x288 with 1 Axes>"
      ]
     },
     "metadata": {},
     "output_type": "display_data"
    }
   ],
   "source": [
    "sns.set_style('darkgrid')\n",
    "sns.distplot(my_df1.Income, kde = True)\n",
    "plt.grid(True)\n",
    "plt.title(\"Income histogram and KDE \\n\")"
   ]
  },
  {
   "cell_type": "markdown",
   "metadata": {},
   "source": [
    "### END"
   ]
  }
 ],
 "metadata": {
  "kernelspec": {
   "display_name": "Python 3",
   "language": "python",
   "name": "python3"
  },
  "language_info": {
   "codemirror_mode": {
    "name": "ipython",
    "version": 3
   },
   "file_extension": ".py",
   "mimetype": "text/x-python",
   "name": "python",
   "nbconvert_exporter": "python",
   "pygments_lexer": "ipython3",
   "version": "3.8.3"
  }
 },
 "nbformat": 4,
 "nbformat_minor": 4
}
